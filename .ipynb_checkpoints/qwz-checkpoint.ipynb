{
 "cells": [
  {
   "cell_type": "markdown",
   "id": "1c40a5c8-37b4-4d9e-a87f-ae00a5dc763f",
   "metadata": {},
   "source": [
    "<center>\n",
    "<p style=\"font-size:3em; text-align:center\">QWZ model dirty edge local density </p>\n",
    "<img src=\"QWZBHZ.png\" alt=\"drawing\" width=\"300\"/>"
   ]
  },
  {
   "cell_type": "markdown",
   "id": "c28c7e5e-9655-40ff-9003-394fd34862db",
   "metadata": {},
   "source": [
    "<p style=\"font-size:1.3em;\"><img src=\"QWZ.svg\" alt=\"drawing\" style=\"float: left; width:600px; margin-right:50px;\">\n",
    "In this notebook, I will examine the properties of the QWZ model, focusing on the local density of states and the appearance of edge states. The main performed tasks in the notebook are the construction of an infinity QWZ ribbon and a finite bulk sample with a scatterer part located at the edge of this. Using these, we can assemble the whole system. I merged two semi-infinite wires to the sample then calculated the local density of states. The QWZ.py file contains my code, which simulates the system and calculates the energy-dependent quantities. I tried to comment on it in a way that may be understandable in itself. In the QWZ model, the connection of the lattice sites is described by $2\\times 2$ matrices, according to the figure, where:\n",
    "</p>\n",
    "\n",
    "$$\n",
    "T_{x/y}=\\dfrac{1}{2}\\left(\\sigma_z + i \\cdot \\sigma_{x/y}\\right)\n",
    "$$"
   ]
  },
  {
   "cell_type": "markdown",
   "id": "7af17427-79d2-469e-9945-ee64b4ad9bd1",
   "metadata": {},
   "source": [
    "</br> </br> \n",
    "<p style=\"font-size:2em; text-align:left\"> QWZ model ribbon </p>"
   ]
  },
  {
   "cell_type": "code",
   "execution_count": 14,
   "id": "a488e50c-9830-443b-891e-1dd04766f8bf",
   "metadata": {},
   "outputs": [],
   "source": [
    "#%matplotlib widget\n",
    "from QWZ import *"
   ]
  },
  {
   "cell_type": "markdown",
   "id": "db516aee-b37c-44c2-a51a-ca9a014ee179",
   "metadata": {},
   "source": [
    "To calculate the Green's function of the semi-infinite ribbons, one had to determine the $H_0$ and $H_1$. An elementary cell will be on a row of the wire, that contains $L$ sites. The corresponding Hamiltonian operator can be constructed according to the following code cell. The structure of the matrices is visualized below."
   ]
  },
  {
   "cell_type": "code",
   "execution_count": 15,
   "id": "064d37bb-2247-4a06-a5fc-1078cfa0ea71",
   "metadata": {},
   "outputs": [
    {
     "data": {
      "image/png": "[encoded data removed]",
      "text/plain": [
       "<Figure size 720x720 with 4 Axes>"
      ]
     },
     "metadata": {
      "needs_background": "light"
     },
     "output_type": "display_data"
    }
   ],
   "source": [
    "#Pauli matrices\n",
    "sigma_0 = np.array([[1,0],[0,1]])\n",
    "sigma_x = np.array([[0,1],[1,0]])\n",
    "sigma_y = np.array([[0,-1j],[1j,0]])\n",
    "sigma_z = np.array([[1,0],[0,-1]])\n",
    "                   \n",
    "#The onsite and hopping terms\n",
    "U = -2 * sigma_z\n",
    "T_x = 0.5 * (sigma_z + 1j*sigma_x)\n",
    "T_y = 0.5 * (sigma_z + 1j*sigma_y)\n",
    "          \n",
    "L = 4\n",
    "    \n",
    "#onsite energy\n",
    "Hu = np.kron(np.eye(L), U)\n",
    "\n",
    "#Unit cell\n",
    "h0 = np.eye(L, k=1) #each site connects to its neighbours\n",
    "H0 = np.matrix(np.kron(h0, T_x)) #add the inside degrees of freedom\n",
    "H0 = Hu + H0 + H0.H\n",
    "\n",
    "#relations between unit cells\n",
    "h1 = np.eye(L)\n",
    "H1 = np.matrix(np.kron(h1, T_y))\n",
    "\n",
    "\n",
    "#plot the matrix\n",
    "fig, axes = plt.subplots(2,2, figsize=(10,10))\n",
    "\n",
    "ax = axes[0][0]\n",
    "ax.set_title('$\\Re(H_0)$', fontsize=15)\n",
    "ax.matshow(np.real(H0))\n",
    "ax.tick_params(size=5, width=2, direction='inout', labelsize=15)\n",
    "\n",
    "ax = axes[1][0]\n",
    "ax.set_title('$\\Im(H_0)$', fontsize=15)\n",
    "ax.matshow(np.imag(H0))\n",
    "ax.tick_params(size=5, width=2, direction='inout', labelsize=15)\n",
    "\n",
    "ax = axes[0][1]\n",
    "ax.set_title('$\\Re(H_1)$', fontsize=15)\n",
    "ax.matshow(np.real(H1))\n",
    "ax.tick_params(size=5, width=2, direction='inout', labelsize=15)\n",
    "\n",
    "ax = axes[1][1]\n",
    "ax.set_title('$\\Im(H_1)$', fontsize=15)\n",
    "ax.matshow(np.imag(H1))\n",
    "ax.tick_params(size=5, width=2, direction='inout', labelsize=15)\n",
    "\n",
    "plt.show()"
   ]
  },
  {
   "cell_type": "markdown",
   "id": "2621a60e-0bc4-4ea2-98da-7ddd64c777f3",
   "metadata": {},
   "source": [
    "One can calculate the spectrum of the ribbon as a function of the wavenumber. In the following figure, the delta parameter and the width of the ribbon are tunable."
   ]
  },
  {
   "cell_type": "code",
   "execution_count": 16,
   "id": "facd3c99-2197-4b14-8594-01f1b5eff458",
   "metadata": {},
   "outputs": [
    {
     "data": {
      "application/vnd.jupyter.widget-view+json": {
       "model_id": "eb4a70d7bb4a468eb4f36751bad5b25c",
       "version_major": 2,
       "version_minor": 0
      },
      "text/plain": [
       "interactive(children=(IntSlider(value=20, continuous_update=False, description='$L$', max=20, min=5, step=5), …"
      ]
     },
     "metadata": {},
     "output_type": "display_data"
    }
   ],
   "source": [
    "display(I1)"
   ]
  },
  {
   "cell_type": "markdown",
   "id": "c32129cf-c100-4be9-9953-783bef40de1f",
   "metadata": {},
   "source": [
    "I calculated the Green's function of the two half of the wire based on the mezo.py sample file. This is done by the leads_Green method of my class."
   ]
  },
  {
   "cell_type": "code",
   "execution_count": 17,
   "id": "b8306387-0cf9-4475-8f28-fb344505142b",
   "metadata": {},
   "outputs": [],
   "source": [
    "QWZ = dirty_edge_QWZ_model(10,-1)\n",
    "QWZ.create_lead()\n",
    "QWZ.leads_Green(0)"
   ]
  },
  {
   "cell_type": "markdown",
   "id": "99f02263-8d24-4c69-bba5-07cfb5d50324",
   "metadata": {},
   "source": [
    "</br> </br> \n",
    "<p style=\"font-size:2em; text-align:left\"> QWZ model finite sample </p>"
   ]
  },
  {
   "cell_type": "markdown",
   "id": "2c3c9bd2-e0b8-4464-abc7-4614b8c59edf",
   "metadata": {},
   "source": [
    "For simplicity, I construct the sample as a finite part of the wire."
   ]
  },
  {
   "cell_type": "code",
   "execution_count": 18,
   "id": "9f915792-c8cc-4f8e-8a3f-622f383c56b8",
   "metadata": {},
   "outputs": [],
   "source": [
    "W = 4\n",
    "#----- diagonal blocks ------------------------ off-diagonal blocks\n",
    "H = np.kron(np.eye(W), H0) + np.kron(np.eye(W,k=1), H1) + np.kron(np.eye(W,k=-1), H1.H)"
   ]
  },
  {
   "cell_type": "code",
   "execution_count": 19,
   "id": "a1ff53fb-ce52-4604-8c75-3501e1d6f77a",
   "metadata": {},
   "outputs": [
    {
     "data": {
      "image/png": "[encoded data removed]",
      "text/plain": [
       "<Figure size 720x360 with 2 Axes>"
      ]
     },
     "metadata": {
      "needs_background": "light"
     },
     "output_type": "display_data"
    }
   ],
   "source": [
    "#plot the matrix\n",
    "fig, axes = plt.subplots(1,2, figsize=(10,5))\n",
    "\n",
    "ax = axes[0]\n",
    "ax.set_title('$\\Re(H)$', fontsize=15)\n",
    "ax.matshow(np.real(H))\n",
    "ax.tick_params(size=5, width=2, direction='inout', labelsize=15)\n",
    "\n",
    "ax = axes[1]\n",
    "ax.set_title('$\\Im(H)$', fontsize=15)\n",
    "ax.matshow(np.imag(H))\n",
    "ax.tick_params(size=5, width=2, direction='inout', labelsize=15)\n",
    "\n",
    "plt.show()"
   ]
  },
  {
   "cell_type": "markdown",
   "id": "7327c7f8-42f6-4f8e-b13b-848995914bfb",
   "metadata": {},
   "source": [
    "The next step is adding the scattering part to the sample. I implemented two different approaches, first I simply cut out a part of the Hamiltonian, i.e., I replaced the corresponding elements with zeros. The second approach is adding a random unitary matrix to the scattering part of the Hamiltonian  $\\left(H' = H + \\alpha V\\right)$.\n",
    "\n",
    "I used matplotlib.path.Path object to select the scatterer part of the operator."
   ]
  },
  {
   "cell_type": "code",
   "execution_count": 20,
   "id": "887fdbfb-156d-4d91-8bfa-abce9b622456",
   "metadata": {},
   "outputs": [
    {
     "data": {
      "image/png": "[encoded data removed]",
      "text/plain": [
       "<Figure size 720x432 with 2 Axes>"
      ]
     },
     "metadata": {
      "needs_background": "light"
     },
     "output_type": "display_data"
    }
   ],
   "source": [
    "QWZ = dirty_edge_QWZ_model(5,-1) #create QWZ model object\n",
    "QWZ.create_lead()  #create the lead\n",
    "QWZ.create_hamiltonian(5, V_size=3, V_pos=(1,0), cut=True) # create the Sample part and cutout a part\n",
    "\n",
    "#plot the Hamiltonian\n",
    "H = QWZ.H_S\n",
    "\n",
    "fig, axes = plt.subplots(1,2, figsize=(10,6))\n",
    "fig.suptitle('Cutout', fontsize=30)\n",
    "\n",
    "ax = axes[0]\n",
    "ax.set_title('$\\Re(H)$', fontsize=15)\n",
    "ax.matshow(np.real(H))\n",
    "ax.tick_params(size=5, width=2, direction='inout', labelsize=15)\n",
    "\n",
    "ax = axes[1]\n",
    "ax.set_title('$\\Im(H)$', fontsize=15)\n",
    "ax.matshow(np.imag(H))\n",
    "ax.tick_params(size=5, width=2, direction='inout', labelsize=15)\n",
    "\n",
    "plt.show()"
   ]
  },
  {
   "cell_type": "code",
   "execution_count": 21,
   "id": "e5b890fa-0ee1-4b6c-a373-e293e358f219",
   "metadata": {},
   "outputs": [
    {
     "data": {
      "image/png": "[encoded data removed]",
      "text/plain": [
       "<Figure size 720x432 with 2 Axes>"
      ]
     },
     "metadata": {
      "needs_background": "light"
     },
     "output_type": "display_data"
    }
   ],
   "source": [
    "QWZ = dirty_edge_QWZ_model(5,-1) #create QWZ model object\n",
    "QWZ.create_lead()  #create the lead\n",
    "QWZ.create_hamiltonian(5, alpha=1, V_size=3, V_pos=(1,0), random=True) # create the Sample part and add a random matrix\n",
    "\n",
    "#plot the Hamiltonian\n",
    "H = QWZ.H_S\n",
    "\n",
    "fig, axes = plt.subplots(1,2, figsize=(10,6))\n",
    "fig.suptitle('Random matrix', fontsize=30)\n",
    "\n",
    "ax = axes[0]\n",
    "ax.set_title('$\\Re(H)$', fontsize=15)\n",
    "ax.matshow(np.real(H))\n",
    "ax.tick_params(size=5, width=2, direction='inout', labelsize=15)\n",
    "\n",
    "ax = axes[1]\n",
    "ax.set_title('$\\Im(H)$', fontsize=15)\n",
    "ax.matshow(np.imag(H))\n",
    "ax.tick_params(size=5, width=2, direction='inout', labelsize=15)\n",
    "\n",
    "plt.show()"
   ]
  },
  {
   "cell_type": "markdown",
   "id": "9d9e62bf-800b-4428-801a-b6bbe69a75f8",
   "metadata": {},
   "source": [
    "I calculated the spectrum and particle density. The red sites belong to the scatterer.  These quantities indicate in advance the energies, where one should look for the edge states."
   ]
  },
  {
   "cell_type": "code",
   "execution_count": 22,
   "id": "26e5d4dc-31ea-4c18-9d6f-3535406263ad",
   "metadata": {},
   "outputs": [
    {
     "data": {
      "application/vnd.jupyter.widget-view+json": {
       "model_id": "32059274effc42d9af9a16df937ecf57",
       "version_major": 2,
       "version_minor": 0
      },
      "text/plain": [
       "interactive(children=(IntSlider(value=400, continuous_update=False, description='n', max=799, min=1), FloatSli…"
      ]
     },
     "metadata": {},
     "output_type": "display_data"
    }
   ],
   "source": [
    "display(I2)"
   ]
  },
  {
   "cell_type": "markdown",
   "id": "0ead4e7a-2424-4e1d-9262-364d2e58a9a3",
   "metadata": {},
   "source": [
    "The next step is the calculation of Green's function of the system from the Green's function of the decoupled parts via the Dyson equation. The following interactive plots make it possible to study the effect in the function of the parameters. These parameters are the size and the position of the dirt, the value of the onsite energy in the system and, in the random matrix case, the relative strength of the scattering operator (the value of $\\alpha$). "
   ]
  },
  {
   "cell_type": "markdown",
   "id": "6cec1072-96d1-4978-8933-c65e0ee4a7f1",
   "metadata": {},
   "source": [
    "* Tune the parameter $\\Delta$ and energy\n",
    "\n",
    "In this case, I added a square scatterer to the left side of the wire. $(L=20, W=20)$"
   ]
  },
  {
   "cell_type": "code",
   "execution_count": 23,
   "id": "6c2caac7-feb2-4b53-b8d2-d5ee243c179a",
   "metadata": {},
   "outputs": [
    {
     "data": {
      "application/vnd.jupyter.widget-view+json": {
       "model_id": "72d815b3a4e442c0942d8449d4e0c436",
       "version_major": 2,
       "version_minor": 0
      },
      "text/plain": [
       "interactive(children=(FloatSlider(value=0.5, continuous_update=False, description='E', max=4.0, min=-4.0, step…"
      ]
     },
     "metadata": {},
     "output_type": "display_data"
    }
   ],
   "source": [
    "display(I3)"
   ]
  },
  {
   "cell_type": "markdown",
   "id": "b38fed67-8a82-4c8f-8dda-8a4331bbd346",
   "metadata": {},
   "source": [
    " * tune the size and the position along the y axis\n",
    " \n",
    "In this case $E=-0.5$ and $\\Delta=-1$ $(L=20, W=20)$"
   ]
  },
  {
   "cell_type": "code",
   "execution_count": 24,
   "id": "d09517d5-be26-49d7-be30-51cf41d6c0e0",
   "metadata": {},
   "outputs": [
    {
     "data": {
      "application/vnd.jupyter.widget-view+json": {
       "model_id": "4556c239a1f243e585756618db79d022",
       "version_major": 2,
       "version_minor": 0
      },
      "text/plain": [
       "interactive(children=(IntSlider(value=14, continuous_update=False, description='$y$', max=20), IntSlider(value…"
      ]
     },
     "metadata": {},
     "output_type": "display_data"
    }
   ],
   "source": [
    "display(I4)"
   ]
  },
  {
   "cell_type": "markdown",
   "id": "c40ded1f-f62e-4fc1-a3d8-763cd941dc40",
   "metadata": {},
   "source": [
    " * tune the $\\alpha$ parameter\n",
    " \n",
    "In that case $E=-0.5$, $\\Delta=-1$ $(L=20, W=20)$"
   ]
  },
  {
   "cell_type": "code",
   "execution_count": 26,
   "id": "394e2af9-9a40-4707-8c68-b787e579bcde",
   "metadata": {},
   "outputs": [
    {
     "data": {
      "application/vnd.jupyter.widget-view+json": {
       "model_id": "53aa59d04c46433e8562d771ecb106c2",
       "version_major": 2,
       "version_minor": 0
      },
      "text/plain": [
       "interactive(children=(FloatSlider(value=24.25, continuous_update=False, description='$\\\\alpha$', max=50.0, ste…"
      ]
     },
     "metadata": {},
     "output_type": "display_data"
    }
   ],
   "source": [
    "display(I5)"
   ]
  },
  {
   "cell_type": "markdown",
   "id": "8afc2692-426c-48c7-9e52-3d7ea586b830",
   "metadata": {},
   "source": [
    "Based on the result, we can state that at proper energies around zero, the value of the local density of states is higher on the edges of the system (edge states). If there is dirt on the edge of the wire, this property does not change. In the QWZ model, the appearance of edge states is robust against the random perturbation of the Hamilton operator. By tuning the delta parameter (in the topological region), we found the same behaviour. But around the $\\delta= -2$  the effect is less noticeable."
   ]
  },
  {
   "cell_type": "markdown",
   "id": "59716604-e528-47e9-84af-5118fd473f0f",
   "metadata": {},
   "source": [
    "If we decrease the number of the sites (W and L) then the result remains the same. At the proper energies, the local density of states is non-zero at the edge of the wire and around dirt."
   ]
  },
  {
   "cell_type": "code",
   "execution_count": 13,
   "id": "cffa9891-5f78-4328-aabc-ba66f8266e89",
   "metadata": {},
   "outputs": [
    {
     "data": {
      "image/png": "[encoded data removed]",
      "text/plain": [
       "<Figure size 1152x599.04 with 4 Axes>"
      ]
     },
     "metadata": {
      "needs_background": "light"
     },
     "output_type": "display_data"
    }
   ],
   "source": [
    "QWZ = dirty_edge_QWZ_model(L = 50, delta = -1)\n",
    "ldos = QWZ.LDOS(-0.6, alpha=100, V_size = 0)\n",
    "\n",
    "\n",
    "fig,axes = plt.subplots(1, 2, figsize=(2*8, 8*((QWZ.W+2)/QWZ.L)))\n",
    "\n",
    "ax = axes[0]\n",
    "ax.set_title(\"$E=-0.5, \\, \\, \\delta=-1, \\, \\, L = W = 50 $ \\n \", fontsize=20)\n",
    "im = ax.imshow(ldos, origin='lower')\n",
    "divider = make_axes_locatable(ax)\n",
    "cax = divider.append_axes(\"right\", size=\"5%\", pad = 0.05)\n",
    "cbar = plt.colorbar(im, cax=cax)\n",
    "cbar.ax.set_title('LDoS', fontsize = 20)\n",
    "cbar.ax.tick_params(labelsize = 15) \n",
    "ax.axis('off')\n",
    "\n",
    "QWZ = dirty_edge_QWZ_model(L = 50, delta = -1)\n",
    "ldos = QWZ.LDOS(-0.6, alpha=100, V_size = (45,5), V_pos = (20,0))\n",
    "ldos[1:-1,:][QWZ.lattice_index.reshape((QWZ.L, QWZ.L))]=0\n",
    "\n",
    "\n",
    "ax = axes[1]\n",
    "ax.set_title(\"$E=-0.5, \\, \\, \\delta=-1, \\, \\, L = W = 50$ \\n Dirty edge $(L_s=5, \\, W_s=45)$\", fontsize=15)\n",
    "im = ax.imshow(ldos, origin='lower')\n",
    "divider = make_axes_locatable(ax)\n",
    "cax = divider.append_axes(\"right\", size=\"5%\", pad = 0.05)\n",
    "cbar = plt.colorbar(im, cax=cax)\n",
    "cbar.ax.set_title('LDoS', fontsize = 20)\n",
    "cbar.ax.tick_params(labelsize = 15) \n",
    "ax.axis('off')\n",
    "\n",
    "\n",
    "plt.show()\n"
   ]
  }
 ],
 "metadata": {
  "kernelspec": {
   "display_name": "Python 3",
   "language": "python",
   "name": "python3"
  },
  "language_info": {
   "codemirror_mode": {
    "name": "ipython",
    "version": 3
   },
   "file_extension": ".py",
   "mimetype": "text/x-python",
   "name": "python",
   "nbconvert_exporter": "python",
   "pygments_lexer": "ipython3",
   "version": "3.8.8"
  }
 },
 "nbformat": 4,
 "nbformat_minor": 5
}
