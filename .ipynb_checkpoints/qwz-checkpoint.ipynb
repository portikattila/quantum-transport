{
 "cells": [
  {
   "cell_type": "markdown",
   "id": "1c40a5c8-37b4-4d9e-a87f-ae00a5dc763f",
   "metadata": {},
   "source": [
    "<center>\n",
    "<img src=\"QWZ.svg\" alt=\"drawing\" width=\"600\"/>\n",
    "<\\center>"
   ]
  },
  {
   "cell_type": "code",
   "execution_count": 1,
   "id": "a488e50c-9830-443b-891e-1dd04766f8bf",
   "metadata": {},
   "outputs": [],
   "source": [
    "import numpy as np\n",
    "import matplotlib\n",
    "import matplotlib.pyplot as plt\n",
    "import scipy.linalg as sl"
   ]
  },
  {
   "cell_type": "code",
   "execution_count": 2,
   "id": "5effa2df-5adc-4da4-99ae-a10bc95cc837",
   "metadata": {},
   "outputs": [],
   "source": [
    "class QWZ_model_dirty_edge:\n",
    "    '''\n",
    "    QWZ model class\n",
    "    '''\n",
    "    def __init__(self, L, delta):\n",
    "        '''\n",
    "        Initializing the class\n",
    "        '''\n",
    "        \n",
    "        self.L = L \n",
    "        self.d = delta\n",
    "        \n",
    "        self.tol = 1e-8\n",
    "        \n",
    "        #pauli matrices\n",
    "        self.sigma_0 = np.array([[1,0],[0,1]])\n",
    "        self.sigma_x = np.array([[0,1],[1,0]])\n",
    "        self.sigma_y = np.array([[0,-1j],[1j,0]])\n",
    "        self.sigma_z = np.array([[1,0],[0,-1]])\n",
    "        \n",
    "        \n",
    "        self.U = delta * self.sigma_z\n",
    "        self.T_x = 0.5 * (self.sigma_z + 1j*self.sigma_x)\n",
    "        self.T_y = 0.5 * (self.sigma_z + 1j*self.sigma_y)\n",
    "        \n",
    "\n",
    "    def __dec(self, E, H_0,H_1):\n",
    "        '''Transform the singular matrices'''\n",
    "        \n",
    "        U,S,V = np.linalg.svd(H_1)\n",
    "        S = np.round(S,8)\n",
    "        H_0_prime = U.H @ H_0 @ U\n",
    "        H_1_prime = U.H @ H_1 @ U\n",
    "        n = np.min(np.where(S==0))\n",
    "        \n",
    "        H_0_m = H_0_prime[:n,:n]\n",
    "        H_0_d = H_0_prime[n:,n:]\n",
    "        W = H_0_prime[:n,n:]\n",
    "        K = H_1_prime[:n,:n]\n",
    "        L = H_1_prime[:n,n:]\n",
    "\n",
    "        H_0_tilde = H_0_m + W@np.linalg.inv(E*np.eye(n)-H_0_d)@W.H + L.H@np.linalg.inv(E*np.eye(n)-H_0_d)@L\n",
    "        H_1_tilde = K + W@np.linalg.inv(E*np.eye(n)-H_0_d)@L\n",
    "\n",
    "        return H_0_tilde, H_1_tilde\n",
    "    \n",
    "    def Green(self,E,**kwargs):\n",
    "        '''\n",
    "        Calculate the lead's Green's functions\n",
    "            based on mezo.py\n",
    "        '''\n",
    "        \n",
    "        self.E = E + 0.00001j  \n",
    "        H0,H1 = self.__dec(self.E, self.H0, self.H1) #reduce the singular matrices\n",
    "        self.H_1=H1\n",
    "        #self.H1 = H1\n",
    "        self.dim = np.shape(H0)[0]\n",
    "           \n",
    "        \n",
    "        O = np.zeros_like(H0)                \n",
    "        I = np.ones_like(H0)                     \n",
    "        H1_inv = np.linalg.inv(H1)\n",
    "        \n",
    "        M_1 = np.hstack([-H1@(H0-self.E*I), -H1_inv@H1.H]) #eigenvalue problem\n",
    "        M_2 = np.hstack([I, O])\n",
    "        \n",
    "        M = np.vstack([M_1,M_2])\n",
    "        w,v = np.linalg.eigh(M)\n",
    "        self.w = w\n",
    "        \n",
    "        v = np.matrix(v[:self.dim,:]) #ket phi (upper part)\n",
    "        \n",
    "        gv=np.zeros_like(w, dtype=complex)\n",
    "        for i in range(2*self.dim):\n",
    "            v[:,i] = v[:,i]/np.linalg.norm(v[:,i])  #normalized eigenstate\n",
    "            gv[i] = 1.0j*((v[:,i].H*(w[i]*H1-w[i]**(-1)*H1.H)*v[:,i])[0,0]) #group velocity\n",
    "            \n",
    "        self.gv = gv\n",
    "        \n",
    "        index = np.arange(len(w))\n",
    "        #-------------------------------------------opened--------------------------------------------------closed\n",
    "        left = index[np.logical_or(np.logical_and(abs(abs(w)-1)<self.tol, np.real(gv)<0), np.logical_and(abs(abs(w)-1)>self.tol, abs(w)>1))]\n",
    "        right = index[np.logical_or(np.logical_and(abs(abs(w)-1)<self.tol, np.real(gv)>0), np.logical_and(abs(abs(w)-1)>self.tol, abs(w)<1))]\n",
    "\n",
    "        \n",
    "        self.v_left = v[:,left]\n",
    "        self.w_left  = w[left]\n",
    "        self.gv_left = gv[left]\n",
    "        \n",
    "        self.v_right = v[:,right]\n",
    "        self.w_right = w[right]\n",
    "        self.gv_right =gv[right]\n",
    "        \n",
    "        if len(self.w_right)!=len(self.w_left):\n",
    "            print('Problem with partitioning!!', len(self.w_right), len(self.w_left))\n",
    "            return\n",
    "        \n",
    "        #calculate the dual vectors\n",
    "        self.v_right_dual = np.linalg.inv(self.v_right)\n",
    "        self.v_left_dual  = np.linalg.inv(self.v_left)          \n",
    "        \n",
    "        self.T_left    = self.v_left  @ np.matrix(np.diag(1/w[left]))  @ self.v_left_dual\n",
    "        self.T_right   = self.v_right @ np.matrix(np.diag(w[right]))   @ self.v_right_dual\n",
    "\n",
    "        \n",
    "        #Get Green's functions leads\n",
    "        self.SG_L = self.T_left@np.linalg.inv(H1)\n",
    "        self.SG_R = self.T_right@np.linalg.inv(H1.H)\n",
    "\n",
    "    def add_scattering_hamiltonian(self, alpha, W, V_size, V_pos=None):\n",
    "        '''Create the hamiltonian of a finite sample and add a scatter (as a random matrix)'''\n",
    "        \n",
    "        self.W = W # width of the sample\n",
    "        self.s = self.L * self.W # the size\n",
    "        \n",
    "        #size and position of V\n",
    "        try:\n",
    "            self.VW = V_size[0]\n",
    "            self.VL = V_size[1]\n",
    "        except:\n",
    "            self.VW = self.VL = V_size\n",
    "            \n",
    "        self.Vs = self.VW * self.VL\n",
    "    \n",
    "        if V_pos:\n",
    "            try:\n",
    "                self.Vx = V_pos[0]\n",
    "                self.Vy = V_pos[1]\n",
    "            except:\n",
    "                self.Vx = self.Vy = pos\n",
    "        else:\n",
    "            self.Vx = 0\n",
    "            self.Vy = np.floor((self.W-self.VW)/2)\n",
    "        \n",
    "            \n",
    "        x_range = np.arange(self.L) \n",
    "        y_range = np.arange(self.W)\n",
    "        y_coordinates, x_coordinates = np.meshgrid(y_range, x_range)\n",
    "        (self.y_coordinates,self.x_coordinates) = (y_coordinates.flatten(),x_coordinates.flatten()) #coordinates to mark the place of the scattering part\n",
    "        \n",
    "        \n",
    "        ## the hamiltonina of the sample \n",
    "        H_u = np.kron(np.eye(self.s), self.U) #onsite\n",
    "        \n",
    "        #hoppings\n",
    "        \n",
    "        h_x = np.kron(np.eye(self.W), np.eye(self.L, k=-1))\n",
    "        H_x = np.matrix(np.kron(h_x, self.T_x))\n",
    "        \n",
    "        h_y = np.kron(np.eye(self.W, k=-1), np.eye(self.L))\n",
    "        H_y = np.matrix(np.kron(h_y, self.T_y))\n",
    "        \n",
    "        self.H = H_u + H_x + H_x.H + H_y + H_y.H\n",
    "\n",
    "        \n",
    "        #add the scatterer\n",
    "        \n",
    "        self.V_x_coord = self.Vx + np.array([0,self.VL-1,self.VL-1,0,0]) #the coordinates of the scatterer\n",
    "        self.V_y_coord = self.Vy + np.array([0,0,self.VW-1,self.VW-1,0])\n",
    "\n",
    "        self.temp = matplotlib.path.Path(np.array([self.V_x_coord, self.V_y_coord]).T)\n",
    "        V = matplotlib.path.Path(np.array([self.V_x_coord, self.V_y_coord]).T)        \n",
    "        self.V_lattice = (V.contains_points(np.array([self.x_coordinates, self.y_coordinates]).T, radius=0.1)) #lattice sites inside the scttering part\n",
    "        \n",
    "        self.n_scattering_sites = np.sum(self.V_lattice) #number of sites in the scaterer\n",
    "        self.V_ham = V.contains_points(np.array([np.kron(self.x_coordinates,np.ones(2)), np.kron(self.y_coordinates,np.ones(2))]).T,radius=0.1)\n",
    "        self.mask = np.kron(self.V_ham.reshape((self.V_ham.size,1)), self.V_ham) #the covered part of the original matrix \n",
    "\n",
    "        dim = 2*self.n_scattering_sites\n",
    "        R0 = np.random.randn(dim,dim)+np.random.rand(dim,dim)*1.0j \n",
    "        R0 = alpha * (R0+np.transpose(np.conjugate(R0))).flatten() # random unitary matrix\n",
    "        self.R = np.zeros_like(self.H)\n",
    "        self.R[self.mask] = R0 #embedding to a zero matrix\n",
    "        #self.V = self.H[self.mask].reshape((2*self.n_scattering_sites, 2*self.n_scattering_sites))\n",
    "        self.H_S = self.H + self.R\n",
    "        \n",
    "\n",
    "    def lattice_plot(self):\n",
    "        '''function to plot the scatterer on lattice'''\n",
    "        fig, ax = plt.subplots(1,1,figsize=(8,8))\n",
    "\n",
    "\n",
    "        ax.plot(self.V_x_coord,self.V_y_coord, 'r-')\n",
    "        ax.fill(self.V_x_coord,self.V_y_coord, color='r', alpha=0.6)\n",
    "        ax.text(self.Vx-0.5+self.VL/2, self.Vy-0.5+self.VW/2, '$\\hat{V}$', ha='center', va='center', fontsize=30)\n",
    "        ax.plot(self.x_coordinates[np.logical_not(self.V_lattice)], self.y_coordinates[np.logical_not(self.V_lattice)], 'o')\n",
    "        ax.plot(self.x_coordinates[self.V_lattice], self.y_coordinates[self.V_lattice], 'o', color='tab:red')\n",
    "\n",
    "        ax.set_xticks(np.arange(0,self.L,1))\n",
    "        ax.set_xticklabels(np.arange(0,self.L,1) + 1)\n",
    "        ax.set_yticks(np.arange(0,self.W,1))\n",
    "        ax.set_yticklabels(np.arange(0,self.L,1) + 1)\n",
    "        ax.tick_params(size=10, direction='inout', width=2, labelsize=15)\n",
    "\n",
    "        plt.show()\n",
    "        \n",
    "        \n",
    "    def LDOS(self, E, alpha=0.1, delta=-1, W=10, V_size=(6,3)):\n",
    "        ''''''\n",
    "        self.U = delta * self.sigma_z\n",
    "        \n",
    "        #QWZ lead\n",
    "        H_u = np.kron(np.eye(self.L), self.U)\n",
    "        \n",
    "        #unit cell\n",
    "        h_0 = np.eye(self.L, k=1)\n",
    "        H_0 = np.matrix(np.kron(h_0, self.T_x))\n",
    "        self.H0 = H_u + H_0 + H_0.H\n",
    "        \n",
    "        #relations between unit cells\n",
    "        h_1 = np.eye(self.L)\n",
    "        self.H1 = np.matrix(np.kron(h_1, self.T_y)) #singular matrix...\n",
    "        \n",
    "        self.Green(E) #lead's Green's functions at E\n",
    "        \n",
    "        self.add_scattering_hamiltonian(alpha, W, V_size) # add sample with scaterer\n",
    "        self.G0S = np.linalg.inv((E*np.ones_like(self.H_S))-self.H_S)# the Green's function of the scaterer \n",
    "        \n",
    "        \n",
    "        #decoupled Green's functions\n",
    "        self.G0 = np.vstack([np.hstack([self.SG_L, np.zeros((np.shape(self.SG_L)[0], np.shape(self.G0S)[1])), np.zeros((np.shape(self.SG_L)[0],np.shape(self.SG_R)[1]))]),\n",
    "                             np.hstack([np.zeros((np.shape(self.G0S)[0], np.shape(self.SG_L)[1])),self.G0S, np.zeros((np.shape(self.G0S)[0],np.shape(self.SG_R)[1]))]),\n",
    "                             np.hstack([np.zeros((np.shape(self.SG_L)[0],np.shape(self.SG_L)[1])), np.zeros((np.shape(self.SG_R)[0], np.shape(self.G0S)[1])), self.SG_R])])\n",
    "        \n",
    "        #the size of the different components\n",
    "        S_g = np.array(np.shape(self.G0))\n",
    "        S_h = np.array(np.shape(self.H_1))\n",
    "        \n",
    "        #the cupling\n",
    "        self.C = np.vstack([np.hstack([np.zeros_like(self.H_1),self.H_1,np.zeros((self.H_1.shape[0], self.G0.shape[1]-3*self.H_1.shape[1])),self.H_1]),\n",
    "                            np.hstack([self.H_1.H,np.zeros((self.H_1.shape[0], self.G0.shape[1]-self.H_1.shape[1]))]),\n",
    "                            np.zeros((self.G0.shape[1]-4*self.H_1.shape[1], self.G0.shape[1])),\n",
    "                            np.hstack([np.zeros((self.H_1.shape[0], self.G0.shape[1]-self.H_1.shape[1])),self.H_1]),\n",
    "                            np.hstack([self.H_1.H, np.zeros((self.H_1.shape[0], self.G0.shape[1]-3*self.H_1.shape[1])),self.H_1.T,np.zeros_like(self.H_1)])])\n",
    "        \n",
    "        #Dyson's equation\n",
    "        self.G = np.linalg.inv(np.linalg.inv(self.G0)-self.C)[self.dim:-self.dim,self.dim:-self.dim]\n",
    "        \n",
    "        self.D=np.array(QWZ.G.diagonal()) #diagonal part of the Green's function\n",
    "        \n",
    "        DOS = []\n",
    "        _,v = np.linalg.eigh(self.H_S) \n",
    "        \n",
    "        for i in range(len(v)):\n",
    "            DOS = np.append(DOS, np.imag(v[:,i].H@self.G@v[:,i]))\n",
    "        \n",
    "        self.DOS=DOS/np.pi"
   ]
  },
  {
   "cell_type": "code",
   "execution_count": 3,
   "id": "5351ed8a-35c6-4cb8-9819-4d68f299e3d8",
   "metadata": {},
   "outputs": [
    {
     "data": {
      "image/png": "[encoded data removed]",
      "text/plain": [
       "<Figure size 576x576 with 1 Axes>"
      ]
     },
     "metadata": {
      "needs_background": "light"
     },
     "output_type": "display_data"
    }
   ],
   "source": [
    "QWZ = QWZ_model_dirty_edge(10,-1)\n",
    "QWZ.LDOS(-1,alpha=100)\n",
    "QWZ.lattice_plot()"
   ]
  },
  {
   "cell_type": "code",
   "execution_count": 4,
   "id": "cf4a994b-e0be-453c-b834-d5997d8ca1c3",
   "metadata": {},
   "outputs": [],
   "source": [
    "QWZ = QWZ_model_dirty_edge(10,-1)\n",
    "QWZ.LDOS(-1)"
   ]
  },
  {
   "cell_type": "code",
   "execution_count": 5,
   "id": "93eda94d-b9e7-4b02-abf7-30cfdb72a958",
   "metadata": {},
   "outputs": [
    {
     "data": {
      "text/plain": [
       "[<matplotlib.lines.Line2D at 0x271efc91fa0>]"
      ]
     },
     "execution_count": 5,
     "metadata": {},
     "output_type": "execute_result"
    },
    {
     "data": {
      "image/png": "[encoded data removed]",
      "text/plain": [
       "<Figure size 432x288 with 1 Axes>"
      ]
     },
     "metadata": {
      "needs_background": "light"
     },
     "output_type": "display_data"
    }
   ],
   "source": [
    "plt.plot(abs(QWZ.DOS))"
   ]
  },
  {
   "cell_type": "code",
   "execution_count": 6,
   "id": "6fd5b188-250f-4415-b823-8816e8ac435a",
   "metadata": {},
   "outputs": [
    {
     "data": {
      "text/plain": [
       "[<matplotlib.lines.Line2D at 0x271efcecac0>]"
      ]
     },
     "execution_count": 6,
     "metadata": {},
     "output_type": "execute_result"
    },
    {
     "data": {
      "image/png": "[encoded data removed]",
      "text/plain": [
       "<Figure size 432x288 with 1 Axes>"
      ]
     },
     "metadata": {
      "needs_background": "light"
     },
     "output_type": "display_data"
    }
   ],
   "source": [
    "plt.plot(np.abs(np.imag(QWZ.D).T))"
   ]
  },
  {
   "cell_type": "code",
   "execution_count": null,
   "id": "12e2b762-3f8f-4edf-b9af-be887420db90",
   "metadata": {},
   "outputs": [],
   "source": []
  },
  {
   "cell_type": "code",
   "execution_count": null,
   "id": "0a9b5bb4-66ba-42ee-af73-649bf4a834e0",
   "metadata": {},
   "outputs": [],
   "source": []
  }
 ],
 "metadata": {
  "kernelspec": {
   "display_name": "Python 3",
   "language": "python",
   "name": "python3"
  },
  "language_info": {
   "codemirror_mode": {
    "name": "ipython",
    "version": 3
   },
   "file_extension": ".py",
   "mimetype": "text/x-python",
   "name": "python",
   "nbconvert_exporter": "python",
   "pygments_lexer": "ipython3",
   "version": "3.8.8"
  }
 },
 "nbformat": 4,
 "nbformat_minor": 5
}
