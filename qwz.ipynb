{
 "cells": [
  {
   "cell_type": "markdown",
   "id": "1c40a5c8-37b4-4d9e-a87f-ae00a5dc763f",
   "metadata": {},
   "source": [
    "<center>\n",
    "<img src=\"QWZ.svg\" alt=\"drawing\" width=\"600\"/>\n"
   ]
  },
  {
   "cell_type": "code",
   "execution_count": 1,
   "id": "a488e50c-9830-443b-891e-1dd04766f8bf",
   "metadata": {},
   "outputs": [],
   "source": [
    "import numpy as np\n",
    "import matplotlib\n",
    "import matplotlib.pyplot as plt\n",
    "import scipy.linalg as sl\n",
    "from IPython.display import display\n",
    "from ipywidgets import*"
   ]
  },
  {
   "cell_type": "code",
   "execution_count": 533,
   "id": "5effa2df-5adc-4da4-99ae-a10bc95cc837",
   "metadata": {},
   "outputs": [],
   "source": [
    "class QWZ_model_dirty_edge:\n",
    "    '''\n",
    "    QWZ model class\n",
    "    '''\n",
    "    def __init__(self, L, delta):\n",
    "        '''\n",
    "        Initializing the class\n",
    "        '''\n",
    "        \n",
    "        self.L = L \n",
    "        self.d = delta\n",
    "        \n",
    "        self.tol = 1e-8\n",
    "        \n",
    "        #pauli matrices\n",
    "        self.sigma_0 = np.array([[1,0],[0,1]])\n",
    "        self.sigma_x = np.array([[0,1],[1,0]])\n",
    "        self.sigma_y = np.array([[0,-1j],[1j,0]])\n",
    "        self.sigma_z = np.array([[1,0],[0,-1]])\n",
    "        \n",
    "        \n",
    "        self.U = delta * self.sigma_z\n",
    "        self.T_x = 0.5 * (self.sigma_z + 1j*self.sigma_x)\n",
    "        self.T_y = 0.5 * (self.sigma_z + 1j*self.sigma_y)\n",
    "\n",
    "################ QWZ lead #############################\n",
    "        \n",
    "    def create_lead(self):\n",
    "        '''QWZ lead''' \n",
    "        \n",
    "        self.U = self.d * self.sigma_z\n",
    "        Hu = np.kron(np.eye(self.L), self.U)\n",
    "        \n",
    "        #unit cell\n",
    "        h0 = np.eye(self.L, k=1)\n",
    "        H0 = np.matrix(np.kron(h0, self.T_x))\n",
    "        self.H0 = Hu + H0 + H0.H\n",
    "        self.dim = np.shape(H0)[0]\n",
    "        \n",
    "        #relations between unit cells\n",
    "        h1 = np.eye(self.L)\n",
    "        #---------singular matrix...-----------------infinitesimally small diagonal matrix to solve singular H1 matrix problem\n",
    "        self.H1 = np.matrix(np.kron(h1, self.T_y)) + self.tol*np.eye(self.dim) \n",
    "        \n",
    "    \n",
    "    def lead_spectrum(self, K):\n",
    "        '''calculate the spectrum as a function of mumentum'''\n",
    "        #create lead\n",
    "        self.create_lead()\n",
    "        \n",
    "        l = len(K)\n",
    "        S = np.zeros((l,self.dim))\n",
    "        for i in range(l):\n",
    "            k = K[i]\n",
    "            S[i,:]=np.linalg.eigvalsh(self.H0 + np.exp(1.0j*k) * self.H1+np.exp(-1.0j*k)*self.H1.H)\n",
    "            \n",
    "        return S \n",
    "    \n",
    "    def plot_lead_spectrum(self):\n",
    "        ''''''\n",
    "        \n",
    "        k=np.linspace(-np.pi, np.pi)\n",
    "        S = self.lead_spectrum(k)\n",
    "        \n",
    "        fig, ax = plt.subplots(1,1, figsize = (9,6))\n",
    "\n",
    "\n",
    "        ax.plot(k,S, '--')\n",
    "\n",
    "        ax.set_xticks(np.linspace(-np.pi,np.pi, 5))\n",
    "        ax.set_xticklabels([r'$-\\pi$',r'$-\\pi/2$',r'$0$',r'$\\pi/2$',r'$\\pi$'])\n",
    "\n",
    "        ax.set_yticks(np.linspace(np.min(S), np.max(S), 5))\n",
    "        ax.set_ylim(1.1*np.min(S),1.1*np.max(S))\n",
    "\n",
    "        ax.tick_params(labelsize=20, direction='inout', size=10, width=2)\n",
    "\n",
    "        ax.set_xlabel(r'$k$',fontsize=30)\n",
    "        ax.set_ylabel(r'$E$',fontsize=30)\n",
    "\n",
    "        ax.grid()\n",
    "        \n",
    "        plt.show()\n",
    "        \n",
    "        \n",
    "    def leads_Green(self,E,**kwargs):\n",
    "        '''\n",
    "        Calculate the lead's Green's functions\n",
    "            based on mezo.py\n",
    "        '''\n",
    "             \n",
    "        O = np.zeros_like(self.H0) #zero block                \n",
    "        I = np.eye(self.dim) # identity block \n",
    "        H1_inv = np.linalg.inv(self.H1)\n",
    "        \n",
    "        #eigenvalue problem\n",
    "        M_1 = np.hstack([-self.H1@(self.H0 - E*I), - H1_inv@self.H1.H]) \n",
    "        M_2 = np.hstack([I, O])\n",
    "        M = np.vstack([M_1,M_2])\n",
    "        #calculate the eigen values and vectors\n",
    "        w,v = np.linalg.eigh(M)\n",
    "        self.w = w\n",
    "        \n",
    "        v = np.matrix(v[:self.dim,:]) #ket phi (upper part)\n",
    "        \n",
    "        gv=np.zeros_like(w, dtype=complex)\n",
    "        for i in range(2*self.dim):\n",
    "            v[:,i] = v[:,i]/np.linalg.norm(v[:,i])  #normalized eigenstate\n",
    "            gv[i] = 1.0j*((v[:,i].H*(w[i]*self.H1-w[i]**(-1)*self.H1.H)*v[:,i])[0,0]) #group velocity\n",
    "            \n",
    "        self.gv = gv\n",
    "        \n",
    "        index = np.arange(len(w))\n",
    "        #-------------------------------------------opened--------------------------------------------------closed\n",
    "        left = index[np.logical_or(np.logical_and(abs(abs(w)-1)<self.tol, np.real(gv)<0), np.logical_and(abs(abs(w)-1)>self.tol, abs(w)>1))]\n",
    "        right = index[np.logical_or(np.logical_and(abs(abs(w)-1)<self.tol, np.real(gv)>0), np.logical_and(abs(abs(w)-1)>self.tol, abs(w)<1))]\n",
    "\n",
    "        \n",
    "        self.v_left = v[:,left]\n",
    "        self.w_left  = w[left]\n",
    "        self.gv_left = gv[left]\n",
    "        \n",
    "        self.v_right = v[:,right]\n",
    "        self.w_right = w[right]\n",
    "        self.gv_right =gv[right]\n",
    "        \n",
    "        if len(self.w_right)!=len(self.w_left):\n",
    "            print('Problem with partitioning!!', len(self.w_right), len(self.w_left))\n",
    "            return\n",
    "        \n",
    "        #calculate the dual vectors and calculate the preliminaries to the green function\n",
    "        self.v_right_dual = np.linalg.inv(self.v_right)\n",
    "        self.v_left_dual  = np.linalg.inv(self.v_left)          \n",
    "        \n",
    "        self.T_left    = self.v_left  @ np.matrix(np.diag(1/w[left]))  @ self.v_left_dual\n",
    "        self.T_right   = self.v_right @ np.matrix(np.diag(w[right]))   @ self.v_right_dual\n",
    "\n",
    "        #Get Green's functions leads\n",
    "        self.SG_L = self.T_left@np.linalg.inv(self.H1)\n",
    "        self.SG_R = self.T_right@np.linalg.inv(self.H1.H)\n",
    "\n",
    "        \n",
    "        \n",
    "################ Bulk sample #############################\n",
    "\n",
    "    def create_hamiltonian(self, W, alpha=0, V_size=0, V_pos=None):\n",
    "        '''Create the hamiltonian of a finite rectangle sample and add a scatter (as a random matrix)'''\n",
    "        \n",
    "        if W:\n",
    "            self.W = W # width of the sample\n",
    "        else:\n",
    "            self.W = self.L\n",
    "            \n",
    "        self.s = self.L * self.W # the size\n",
    "        \n",
    "        #size and position of V\n",
    "        try:\n",
    "            self.VW = V_size[0]\n",
    "            self.VL = V_size[1]\n",
    "        except:\n",
    "            self.VW = self.VL = V_size\n",
    "            \n",
    "        self.Vs = self.VW * self.VL\n",
    "    \n",
    "        if V_pos:\n",
    "            try:\n",
    "                self.Vx = V_pos[0]\n",
    "                self.Vy = V_pos[1]\n",
    "            except:\n",
    "                self.Vx = self.Vy = pos\n",
    "        else:\n",
    "            self.Vx = 0\n",
    "            self.Vy = np.floor((self.W-self.VW)/2)\n",
    "        \n",
    "            \n",
    "        x_range = np.arange(self.L) \n",
    "        y_range = np.arange(self.W)\n",
    "        y_coordinates, x_coordinates = np.meshgrid(y_range, x_range)\n",
    "        (self.y_coordinates,self.x_coordinates) = (y_coordinates.flatten(),x_coordinates.flatten()) #coordinates to mark the place of the scattering part\n",
    "        \n",
    "        \n",
    "        ## the hamiltonina of the sample \n",
    "        H_u = np.kron(np.eye(self.s), self.U) #onsite\n",
    "        \n",
    "        #hoppings\n",
    "        \n",
    "        h_x = np.kron(np.eye(self.W), np.eye(self.L, k=-1))\n",
    "        H_x = np.matrix(np.kron(h_x, self.T_x))\n",
    "        \n",
    "        h_y = np.kron(np.eye(self.W, k=-1), np.eye(self.L))\n",
    "        H_y = np.matrix(np.kron(h_y, self.T_y))\n",
    "        \n",
    "        self.H = H_u + H_x + H_x.H + H_y + H_y.H\n",
    "\n",
    "########################\n",
    "\n",
    "        HH=sp.linalg.block_diag(*[QWZ.H0 for _ in range(self.W)])\n",
    "        HH = HH + np.kron(np.eye(self.W,self.L,k=1), QWZ.H1) + np.kron(np.eye(self.W,self.L,k=1), QWZ.H1).H\n",
    "        self.H = HH\n",
    "        #add the scatterer\n",
    "        if self.Vs > 0:\n",
    "            self.V_x_coord = self.Vx + np.array([0,self.VL-1,self.VL-1,0,0]) #the coordinates of the scatterer\n",
    "            self.V_y_coord = self.Vy + np.array([0,0,self.VW-1,self.VW-1,0])\n",
    "\n",
    "            self.temp = matplotlib.path.Path(np.array([self.V_x_coord, self.V_y_coord]).T)\n",
    "            V = matplotlib.path.Path(np.array([self.V_x_coord, self.V_y_coord]).T)        \n",
    "            self.V_lattice = (V.contains_points(np.array([self.x_coordinates, self.y_coordinates]).T, radius=0.1)) #lattice sites inside the scttering part\n",
    "\n",
    "            self.n_scattering_sites = np.sum(self.V_lattice) #number of sites in the scaterer\n",
    "            self.V_ham = V.contains_points(np.array([np.kron(self.x_coordinates,np.ones(2)), np.kron(self.y_coordinates,np.ones(2))]).T,radius=0.1)\n",
    "            self.mask = np.kron(self.V_ham.reshape((self.V_ham.size,1)), self.V_ham) #the covered part of the original matrix \n",
    "\n",
    "            dim = 2*self.n_scattering_sites\n",
    "            R0 = np.random.randn(dim,dim)+np.random.rand(dim,dim)*1.0j \n",
    "            R0 = alpha * (R0+np.transpose(np.conjugate(R0))).flatten() # random unitary matrix\n",
    "            self.R = np.zeros_like(self.H)\n",
    "            self.R[self.mask] = R0 #embedding to a zero matrix\n",
    "            self.H_S = self.H + self.R\n",
    "            #self.V = self.H[self.mask].reshape((2*self.n_scattering_sites, 2*self.n_scattering_sites))\n",
    "        else:    \n",
    "            self.H_S = self.H\n",
    "            \n",
    "        \n",
    "\n",
    "    def lattice_plot(self):\n",
    "        '''function to plot the scatterer on lattice'''\n",
    "        fig, ax = plt.subplots(1,1,figsize=(8,8))\n",
    "\n",
    "        if self.Vs > 0:\n",
    "            ax.plot(self.V_x_coord,self.V_y_coord, 'r-')\n",
    "            ax.fill(self.V_x_coord,self.V_y_coord, color='r', alpha=0.6)\n",
    "            ax.text(self.Vx-0.5+self.VL/2, self.Vy-0.5+self.VW/2, '$\\hat{V}$', ha='center', va='center', fontsize=30)\n",
    "            ax.plot(self.x_coordinates[np.logical_not(self.V_lattice)], self.y_coordinates[np.logical_not(self.V_lattice)], 'ko')\n",
    "            ax.plot(self.x_coordinates[self.V_lattice], self.y_coordinates[self.V_lattice], 'o', color='tab:red')\n",
    "        else:\n",
    "            ax.plot(self.x_coordinates, self.y_coordinates, 'ko')\n",
    "            \n",
    "        ax.set_xticks(np.arange(0,self.L,1))\n",
    "        ax.set_xticklabels(np.arange(0,self.L,1) + 1)\n",
    "        ax.set_yticks(np.arange(0,self.W,1))\n",
    "        ax.set_yticklabels(np.arange(0,self.L,1) + 1)\n",
    "        ax.tick_params(size=10, direction='inout', width=2, labelsize=15)\n",
    "\n",
    "        plt.show()\n",
    "        \n",
    "\n",
    "    def bulk_spectrum_and_density(self):\n",
    "        ''''''\n",
    "        e,v = np.linalg.eigh(self.H_S)\n",
    "    \n",
    "        return e,v\n",
    "    \n",
    "    def Green(self, E):\n",
    "        ''' '''\n",
    "        \n",
    "        self.E = E + self.tol * 1j\n",
    "        self.leads_Green(self.E) \n",
    "        self.SG_B = np.linalg.inv(self.E * np.eye(2*self.s)-self.H_S) #the Green's function of the scaterer\n",
    "        \n",
    "        #decoupled Green's functions\n",
    "        self.G0 = sp.linalg.block_diag(self.SG_L, self.SG_B, self.SG_R)\n",
    "        \n",
    "\n",
    "    def Dyson(self):\n",
    "        '''Dyson equation'''\n",
    "        \n",
    "        # coupling\n",
    "        self.V = np.vstack([np.hstack([np.zeros_like(self.H1) ,self.H1, np.zeros((self.H1.shape[0], self.G0.shape[1]-2*self.H1.shape[1]))]),\n",
    "                            np.hstack([self.H1.H,  np.zeros((self.H1.shape[0], self.G0.shape[1]-self.H1.shape[1]))]),\n",
    "                            np.zeros((self.G0.shape[1]-4*self.H1.shape[1], self.G0.shape[1])),\n",
    "                            np.hstack([np.zeros((self.H1.shape[0], self.G0.shape[1]-self.H1.shape[1])), self.H1]),\n",
    "                            np.hstack([np.zeros((self.H1.shape[0], self.G0.shape[1]-2*self.H1.shape[1])),self.H1.T,np.zeros_like(self.H1)])])\n",
    "        \n",
    "        self.G = np.linalg.inv(np.linalg.inv(self.G0) - self.V)\n",
    "\n",
    "        \n",
    "    def LDOS(self, E, delta=-1, alpha=0, W=None, V_size=(6,3)):\n",
    "        ''''''\n",
    "        \n",
    "        self.U = delta * self.sigma_z\n",
    "        self.create_lead()\n",
    "        self.create_hamiltonian(W,alpha, V_size) # add sample with scaterer\n",
    "        self.Green(E) #lead's Green's functions at E\n",
    "        self.Dyson() #Dyson's equation\n",
    "        \n",
    "        self.D = np.imag(np.diagonal(self.G))\n",
    "        ldos = []\n",
    "        \n",
    "        for i in np.arange(0,len(self.D),2):\n",
    "            ldos.append(self.D[i]+self.D[i+1])\n",
    "       \n",
    "        return np.array(ldos).reshape(self.W+2, self.L)"
   ]
  },
  {
   "cell_type": "raw",
   "id": "2951cba5-526b-41f8-bd53-29731e3f6a16",
   "metadata": {},
   "source": [
    "def plot_lead_spectrum(m):\n",
    "    QWZ = QWZ_model_dirty_edge(10,0)\n",
    "    QWZ.d = m\n",
    "    QWZ.create_lead()\n",
    "    QWZ.plot_lead_spectrum()\n",
    "\n",
    "interactive(plot_lead_spectrum, m=(-2,-1, 0.01))"
   ]
  },
  {
   "cell_type": "raw",
   "id": "c1433c2c-88cd-44a7-acd0-a6c8c2f4f306",
   "metadata": {},
   "source": [
    "QWZ = QWZ_model_dirty_edge(20,-1)\n",
    "QWZ.create_lead()\n",
    "QWZ.create_hamiltonian(1,20,(10,3))\n",
    "\n",
    "def plot_dos(n):\n",
    "    e,v = QWZ.bulk_spectrum_and_density()\n",
    "    dens = np.abs(np.asarray(v))**2\n",
    "    dos=[]\n",
    "    \n",
    "    for i in np.arange(0,len(dens[:,n]),2):\n",
    "        dos.append(dens[:,n][i]+dens[:,n][i+1])\n",
    "        \n",
    "    dos = np.log(np.array(dos)) \n",
    "    \n",
    " \n",
    "    fig,ax = plt.subplots(1,1, figsize=(8,8))\n",
    "\n",
    "    if QWZ.Vs > 0: \n",
    "        ax.plot(QWZ.V_x_coord,QWZ.V_y_coord, 'r-')\n",
    "        N = matplotlib.colors.Normalize(np.min(dos[np.logical_not(QWZ.V_lattice)]), np.max(dos[np.logical_not(QWZ.V_lattice)]))\n",
    "        colors = matplotlib.cm.viridis(N(dos))[np.logical_not(QWZ.V_lattice)]\n",
    "        ax.scatter(QWZ.x_coordinates[np.logical_not(QWZ.V_lattice)], QWZ.y_coordinates[np.logical_not(QWZ.V_lattice)],s=100, c = colors)\n",
    "        ax.plot(QWZ.x_coordinates[QWZ.V_lattice], QWZ.y_coordinates[QWZ.V_lattice], 'o', color='tab:red')\n",
    "    else:\n",
    "        N = matplotlib.colors.Normalize(np.min(dos), np.max(dos))\n",
    "        colors = matplotlib.cm.viridis(N(dos))\n",
    "        ax.scatter(QWZ.x_coordinates, QWZ.y_coordinates,s=100, c =colors)\n",
    "\n",
    "    cbar = fig.colorbar(matplotlib.cm.ScalarMappable(norm = N, cmap=matplotlib.cm.viridis), ax=ax)\n",
    "    cbar.ax.set_title('$\\log(DOS)$')\n",
    "    \n",
    "    plt.show()\n",
    "    \n",
    "interactive_plot = interactive(plot_dos, n=(0,int(QWZ.H_S.shape[0]/2),1))"
   ]
  },
  {
   "cell_type": "raw",
   "id": "9f635da6-2483-4198-a8af-e84f88b73017",
   "metadata": {},
   "source": [
    "display(interactive_plot)"
   ]
  },
  {
   "cell_type": "code",
   "execution_count": 513,
   "id": "ea2578ad-6895-48c4-9f46-bec7673cab5b",
   "metadata": {},
   "outputs": [
    {
     "data": {
      "image/png": "[encoded data removed]",
      "text/plain": [
       "<Figure size 576x576 with 1 Axes>"
      ]
     },
     "metadata": {
      "needs_background": "light"
     },
     "output_type": "display_data"
    }
   ],
   "source": [
    "QWZ = QWZ_model_dirty_edge(10,-1)\n",
    "Ldos = QWZ.LDOS(0,alpha=0.5,V_size=4)\n",
    "QWZ.lattice_plot()"
   ]
  },
  {
   "cell_type": "code",
   "execution_count": null,
   "id": "93aef75b-b8c0-4890-90d9-e7c4ffce1b15",
   "metadata": {},
   "outputs": [],
   "source": []
  },
  {
   "cell_type": "code",
   "execution_count": 529,
   "id": "da07a524-996d-4ab0-bc33-baa7226152ca",
   "metadata": {},
   "outputs": [],
   "source": [
    "QWZ = QWZ_model_dirty_edge(10,-1)\n",
    "ldos = QWZ.LDOS(2,W=10)"
   ]
  },
  {
   "cell_type": "code",
   "execution_count": 532,
   "id": "0ef5da11-e2fa-4157-95d5-21128dcc6e93",
   "metadata": {},
   "outputs": [
    {
     "data": {
      "image/png": "[encoded data removed]",
      "text/plain": [
       "<Figure size 432x288 with 1 Axes>"
      ]
     },
     "metadata": {
      "needs_background": "light"
     },
     "output_type": "display_data"
    }
   ],
   "source": [
    "plt.imshow(ldos[1:-1,:])\n",
    "plt.show()"
   ]
  },
  {
   "cell_type": "code",
   "execution_count": 515,
   "id": "c1cd4c7a-2aea-4018-b7a3-1c14442d57d7",
   "metadata": {},
   "outputs": [
    {
     "data": {
      "image/png": "[encoded data removed]",
      "text/plain": [
       "<Figure size 432x288 with 1 Axes>"
      ]
     },
     "metadata": {
      "needs_background": "light"
     },
     "output_type": "display_data"
    },
    {
     "data": {
      "image/png": "[encoded data removed]",
      "text/plain": [
       "<Figure size 432x288 with 1 Axes>"
      ]
     },
     "metadata": {
      "needs_background": "light"
     },
     "output_type": "display_data"
    }
   ],
   "source": [
    "plt.imshow(np.real(QWZ.H1))\n",
    "plt.show()\n",
    "\n",
    "plt.imshow(np.real(QWZ.V[0:40,0:40]))\n",
    "plt.show()"
   ]
  },
  {
   "cell_type": "code",
   "execution_count": 524,
   "id": "83d4e618-4117-4d40-8c84-2c04313456ea",
   "metadata": {},
   "outputs": [],
   "source": [
    "QWZ = QWZ_model_dirty_edge(10,-2)\n",
    "ldos = QWZ.LDOS(-3.93632823,alpha=0, W=10)\n",
    "G=np.imag(np.diagonal(QWZ.SG_B))"
   ]
  },
  {
   "cell_type": "code",
   "execution_count": 525,
   "id": "af32bbf2-5038-4a0c-ba7a-28b7a0947e96",
   "metadata": {},
   "outputs": [],
   "source": [
    "g=[]\n",
    "for i in np.arange(0,len(G),2):\n",
    "    g.append(G[i]+G[i+1])"
   ]
  },
  {
   "cell_type": "code",
   "execution_count": 526,
   "id": "0e736495-e09b-4f17-ac0f-980fad8bd387",
   "metadata": {},
   "outputs": [
    {
     "data": {
      "text/plain": [
       "<matplotlib.image.AxesImage at 0x2b0d97771c0>"
      ]
     },
     "execution_count": 526,
     "metadata": {},
     "output_type": "execute_result"
    },
    {
     "data": {
      "image/png": "[encoded data removed]",
      "text/plain": [
       "<Figure size 432x288 with 1 Axes>"
      ]
     },
     "metadata": {
      "needs_background": "light"
     },
     "output_type": "display_data"
    }
   ],
   "source": [
    "plt.imshow(np.array(g).reshape((int(len(g)/10),10)))"
   ]
  },
  {
   "cell_type": "code",
   "execution_count": 527,
   "id": "c890cba6-9996-4cb9-890e-fb6ec5bfba1e",
   "metadata": {},
   "outputs": [
    {
     "data": {
      "text/plain": [
       "[<matplotlib.lines.Line2D at 0x2b0eee1aca0>]"
      ]
     },
     "execution_count": 527,
     "metadata": {},
     "output_type": "execute_result"
    },
    {
     "data": {
      "image/png": "[encoded data removed]",
      "text/plain": [
       "<Figure size 432x288 with 1 Axes>"
      ]
     },
     "metadata": {
      "needs_background": "light"
     },
     "output_type": "display_data"
    }
   ],
   "source": [
    "plt.plot(g)"
   ]
  },
  {
   "cell_type": "code",
   "execution_count": 519,
   "id": "8ccf76c3-6ffc-4723-b99d-3ab27773f6dc",
   "metadata": {},
   "outputs": [
    {
     "data": {
      "text/plain": [
       "<matplotlib.image.AxesImage at 0x2b0d1e3fe50>"
      ]
     },
     "execution_count": 519,
     "metadata": {},
     "output_type": "execute_result"
    },
    {
     "data": {
      "image/png": "[encoded data removed]",
      "text/plain": [
       "<Figure size 432x288 with 1 Axes>"
      ]
     },
     "metadata": {
      "needs_background": "light"
     },
     "output_type": "display_data"
    }
   ],
   "source": [
    "plt.imshow(np.real(QWZ.H_S))"
   ]
  },
  {
   "cell_type": "code",
   "execution_count": null,
   "id": "6c5b58e7-2ac2-49dd-9d79-2ade126c6580",
   "metadata": {},
   "outputs": [],
   "source": []
  }
 ],
 "metadata": {
  "kernelspec": {
   "display_name": "Python 3",
   "language": "python",
   "name": "python3"
  },
  "language_info": {
   "codemirror_mode": {
    "name": "ipython",
    "version": 3
   },
   "file_extension": ".py",
   "mimetype": "text/x-python",
   "name": "python",
   "nbconvert_exporter": "python",
   "pygments_lexer": "ipython3",
   "version": "3.8.8"
  }
 },
 "nbformat": 4,
 "nbformat_minor": 5
}
